{
 "cells": [
  {
   "cell_type": "code",
   "execution_count": 1,
   "id": "nutritional-lancaster",
   "metadata": {},
   "outputs": [],
   "source": [
    "import pandas as pd"
   ]
  },
  {
   "cell_type": "code",
   "execution_count": 2,
   "id": "interim-beverage",
   "metadata": {},
   "outputs": [],
   "source": [
    "ec2cof = pd.read_csv('/Users/joshuagoldford/Dropbox/phd/data/KEGG/enzyme/ec2cofactor.csv')"
   ]
  },
  {
   "cell_type": "code",
   "execution_count": 4,
   "id": "equipped-playlist",
   "metadata": {},
   "outputs": [
    {
     "data": {
      "text/plain": [
       "array(['zn', 'mg', 'mn', 'co', 'ni', 'mo', 'heme', 'flavoprotein', 'cu',\n",
       "       'fe', 'fes_4Fe_4S', 'pterin', 'fes', 'w', 'tpp', 'fes_2Fe_2S',\n",
       "       'fes_3Fe_4S', 'plp', 'fes_FeFe', 'v12', 'biotin'], dtype=object)"
      ]
     },
     "execution_count": 4,
     "metadata": {},
     "output_type": "execute_result"
    }
   ],
   "source": [
    "ec2cof['cofactor'].unique()"
   ]
  },
  {
   "cell_type": "code",
   "execution_count": 5,
   "id": "favorite-latino",
   "metadata": {},
   "outputs": [],
   "source": [
    "c = ['fe', 'fes', 'fes_4Fe_4S','fes_2Fe_2S','fes_3Fe_4S','fes_FeFe','mn']"
   ]
  },
  {
   "cell_type": "code",
   "execution_count": 13,
   "id": "superb-hawaii",
   "metadata": {},
   "outputs": [
    {
     "data": {
      "text/plain": [
       "3        1.1.1.41\n",
       "5        1.1.1.42\n",
       "7        1.1.1.84\n",
       "8        1.1.1.93\n",
       "15      1.1.1.267\n",
       "          ...    \n",
       "1586      5.5.1.7\n",
       "1588     5.5.1.11\n",
       "1610     6.3.4.24\n",
       "1611     6.3.4.24\n",
       "1617      6.4.1.1\n",
       "Name: ec, Length: 549, dtype: object"
      ]
     },
     "execution_count": 13,
     "metadata": {},
     "output_type": "execute_result"
    }
   ],
   "source": [
    "ec2cof[ec2cof.cofactor.isin(c)]['ec']"
   ]
  },
  {
   "cell_type": "code",
   "execution_count": 18,
   "id": "funny-sterling",
   "metadata": {},
   "outputs": [],
   "source": [
    "ec2cof['ec3'] = ec2cof['ec'].apply(lambda x: \".\".join(x.split('.')[0:3]))"
   ]
  },
  {
   "cell_type": "code",
   "execution_count": 33,
   "id": "alike-elevation",
   "metadata": {},
   "outputs": [],
   "source": [
    "ec3_list = ec2cof[ec2cof['cofactor'].isin(c)]['ec3'].unique().tolist()"
   ]
  },
  {
   "cell_type": "code",
   "execution_count": 25,
   "id": "excess-melissa",
   "metadata": {},
   "outputs": [],
   "source": [
    "ecrn = pd.read_csv('ec_rxn_mapping.txt',sep='\\t')"
   ]
  },
  {
   "cell_type": "code",
   "execution_count": 26,
   "id": "structural-healing",
   "metadata": {},
   "outputs": [],
   "source": [
    "ecrn['ec3'] = ecrn['ec'].apply(lambda x: \".\".join(x.split('.')[0:3]))"
   ]
  },
  {
   "cell_type": "code",
   "execution_count": 38,
   "id": "oriented-berlin",
   "metadata": {},
   "outputs": [],
   "source": [
    "g  = ecrn[ecrn['ec3'].isin(ec3_list)][['rxn']]"
   ]
  },
  {
   "cell_type": "code",
   "execution_count": 42,
   "id": "objective-keyboard",
   "metadata": {},
   "outputs": [],
   "source": [
    "g.rename({'rxn':'rn'},axis=1).to_csv('../reaction_sets/reactions.FeMnCatalyzed.01Feb2021.csv')"
   ]
  },
  {
   "cell_type": "code",
   "execution_count": null,
   "id": "polished-poverty",
   "metadata": {},
   "outputs": [],
   "source": []
  }
 ],
 "metadata": {
  "kernelspec": {
   "display_name": "Python (coenzymes)",
   "language": "python",
   "name": "coenzymes"
  },
  "language_info": {
   "codemirror_mode": {
    "name": "ipython",
    "version": 3
   },
   "file_extension": ".py",
   "mimetype": "text/x-python",
   "name": "python",
   "nbconvert_exporter": "python",
   "pygments_lexer": "ipython3",
   "version": "3.8.5"
  }
 },
 "nbformat": 4,
 "nbformat_minor": 5
}

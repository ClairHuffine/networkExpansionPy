{
 "cells": [
  {
   "cell_type": "code",
   "execution_count": 1,
   "id": "vocal-computer",
   "metadata": {},
   "outputs": [],
   "source": [
    "import pandas as pd\n",
    "import re"
   ]
  },
  {
   "cell_type": "code",
   "execution_count": 6,
   "id": "desperate-newspaper",
   "metadata": {},
   "outputs": [],
   "source": [
    "atlas = pd.read_csv('atlas_all_reactions.txt',sep=';',header=None)\n",
    "atlas.columns = ['id','rn','atlas_equation','kegg_equation','ec','delta_G','delta_G_error','kegg_match','score']"
   ]
  },
  {
   "cell_type": "code",
   "execution_count": 62,
   "id": "interior-jones",
   "metadata": {},
   "outputs": [],
   "source": [
    "x = atlas.kegg_equation.tolist()[0]"
   ]
  },
  {
   "cell_type": "code",
   "execution_count": 94,
   "id": "lyric-concern",
   "metadata": {},
   "outputs": [],
   "source": [
    "x = atlas[atlas['kegg_equation'].apply(lambda x: len(re.findall('\\(\\d\\)(?=C)',x))) > 0].iloc[0].kegg_equation"
   ]
  },
  {
   "cell_type": "code",
   "execution_count": 55,
   "id": "together-credits",
   "metadata": {},
   "outputs": [],
   "source": [
    "example = re.search('\\d(?=C)','2C00002+C00003<=>C00004+C00080+2C07024')"
   ]
  },
  {
   "cell_type": "code",
   "execution_count": 132,
   "id": "protecting-ivory",
   "metadata": {},
   "outputs": [],
   "source": [
    "def parse_reaction_string(x):\n",
    "    reaction_dict = {}\n",
    "    # split to reactions and produts\n",
    "    subs_prods = x.split('<=>')\n",
    "    subs = subs_prods[0]\n",
    "    prods = subs_prods[1]\n",
    "    subs = subs.split('+')\n",
    "    prods = prods.split('+')\n",
    "    # separate\n",
    "    for sub  in subs:\n",
    "        stoich = re.findall('(?<=\\()\\d*(?=\\))',sub)\n",
    "        if len(stoich) > 0:\n",
    "            s = int(stoich[0])\n",
    "            compound = sub.split(')')[1]\n",
    "            reaction_dict[compound] = -s\n",
    "        else:\n",
    "            reaction_dict[sub] = -1\n",
    "            \n",
    "    for prod  in prods:\n",
    "        stoich = re.findall('(?<=\\()\\d*(?=\\))',prod)\n",
    "        if len(stoich) > 0:\n",
    "            s = int(stoich[0])\n",
    "            compound = prod.split(')')[1]\n",
    "            reaction_dict[compound] = s\n",
    "        else:\n",
    "            reaction_dict[prod] = 1       \n",
    "    return reaction_dict"
   ]
  },
  {
   "cell_type": "code",
   "execution_count": 133,
   "id": "hairy-commitment",
   "metadata": {},
   "outputs": [],
   "source": [
    "dfs = []\n",
    "\n",
    "for idx,row in atlas.iterrows():\n",
    "    x = row.kegg_equation\n",
    "    df = pd.DataFrame(pd.Series(parse_reaction_string(x)),columns = ['s']).reset_index()\n",
    "    rn = 'AR' + str(row.id)\n",
    "    df.columns = ['cid','s']\n",
    "    df['rn']  = rn\n",
    "    dfs.append(df)"
   ]
  },
  {
   "cell_type": "code",
   "execution_count": 134,
   "id": "minus-journey",
   "metadata": {},
   "outputs": [],
   "source": [
    "atlas_network = pd.concat(dfs,axis=0)"
   ]
  },
  {
   "cell_type": "code",
   "execution_count": 141,
   "id": "canadian-drink",
   "metadata": {},
   "outputs": [],
   "source": [
    "adg = atlas[['id','delta_G','delta_G_error']].dropna()\n",
    "adg['rn'] = adg.id.apply(lambda x: 'AR' + str(x))\n",
    "adg = adg.set_index('rn')[['delta_G','delta_G_error']]"
   ]
  },
  {
   "cell_type": "code",
   "execution_count": 152,
   "id": "atmospheric-growth",
   "metadata": {},
   "outputs": [],
   "source": [
    "atlas_network[['rn','cid','s']].set_index('rn').to_csv('atlas.network.v1.2020.csv')\n",
    "adg.to_csv('atlas.deltaG.v1.2020.csv')"
   ]
  },
  {
   "cell_type": "code",
   "execution_count": 155,
   "id": "assured-wonder",
   "metadata": {},
   "outputs": [],
   "source": [
    "import networkExpansionPy.lib as ne"
   ]
  },
  {
   "cell_type": "code",
   "execution_count": 156,
   "id": "monthly-guitar",
   "metadata": {},
   "outputs": [],
   "source": [
    "thermo = pd.read_csv(ne.asset_path +'/reaction_free_energy/kegg_reactions_CC_ph7.0.csv',sep=',')"
   ]
  },
  {
   "cell_type": "code",
   "execution_count": 163,
   "id": "optical-bahamas",
   "metadata": {},
   "outputs": [],
   "source": [
    "atlas['atlas_rn'] = atlas.id.apply(lambda x: 'AR' + str(x))\n"
   ]
  },
  {
   "cell_type": "code",
   "execution_count": 167,
   "id": "convinced-blood",
   "metadata": {},
   "outputs": [],
   "source": [
    "atlas[['atlas_rn','rn']].dropna().to_csv('atlas2kegg.csv')"
   ]
  },
  {
   "cell_type": "code",
   "execution_count": 174,
   "id": "hourly-brass",
   "metadata": {},
   "outputs": [
    {
     "data": {
      "text/html": [
       "<div>\n",
       "<style scoped>\n",
       "    .dataframe tbody tr th:only-of-type {\n",
       "        vertical-align: middle;\n",
       "    }\n",
       "\n",
       "    .dataframe tbody tr th {\n",
       "        vertical-align: top;\n",
       "    }\n",
       "\n",
       "    .dataframe thead th {\n",
       "        text-align: right;\n",
       "    }\n",
       "</style>\n",
       "<table border=\"1\" class=\"dataframe\">\n",
       "  <thead>\n",
       "    <tr style=\"text-align: right;\">\n",
       "      <th></th>\n",
       "      <th>id</th>\n",
       "      <th>rn</th>\n",
       "      <th>atlas_equation</th>\n",
       "      <th>kegg_equation</th>\n",
       "      <th>ec</th>\n",
       "      <th>delta_G</th>\n",
       "      <th>delta_G_error</th>\n",
       "      <th>kegg_match</th>\n",
       "      <th>score</th>\n",
       "      <th>atlas_rn</th>\n",
       "    </tr>\n",
       "  </thead>\n",
       "  <tbody>\n",
       "    <tr>\n",
       "      <th>10305</th>\n",
       "      <td>10306</td>\n",
       "      <td>NaN</td>\n",
       "      <td>(4)50+0+2+83+6572&lt;=&gt;3+69</td>\n",
       "      <td>(4)C00059+C00001+C00003+C00094+C13768&lt;=&gt;C00004...</td>\n",
       "      <td>1.8.1.-(rev)</td>\n",
       "      <td>NaN</td>\n",
       "      <td>NaN</td>\n",
       "      <td>R08356/1.8.1.12</td>\n",
       "      <td>0.238352</td>\n",
       "      <td>AR10306</td>\n",
       "    </tr>\n",
       "  </tbody>\n",
       "</table>\n",
       "</div>"
      ],
      "text/plain": [
       "          id   rn            atlas_equation  \\\n",
       "10305  10306  NaN  (4)50+0+2+83+6572<=>3+69   \n",
       "\n",
       "                                           kegg_equation            ec  \\\n",
       "10305  (4)C00059+C00001+C00003+C00094+C13768<=>C00004...  1.8.1.-(rev)   \n",
       "\n",
       "       delta_G  delta_G_error       kegg_match     score atlas_rn  \n",
       "10305      NaN            NaN  R08356/1.8.1.12  0.238352  AR10306  "
      ]
     },
     "execution_count": 174,
     "metadata": {},
     "output_type": "execute_result"
    }
   ],
   "source": [
    "atlas[atlas.id == 10306]"
   ]
  },
  {
   "cell_type": "code",
   "execution_count": null,
   "id": "common-remainder",
   "metadata": {},
   "outputs": [],
   "source": []
  }
 ],
 "metadata": {
  "kernelspec": {
   "display_name": "Python 3.6 (network expansion)",
   "language": "python",
   "name": "ne.py3.6"
  },
  "language_info": {
   "codemirror_mode": {
    "name": "ipython",
    "version": 3
   },
   "file_extension": ".py",
   "mimetype": "text/x-python",
   "name": "python",
   "nbconvert_exporter": "python",
   "pygments_lexer": "ipython3",
   "version": "3.6.13"
  }
 },
 "nbformat": 4,
 "nbformat_minor": 5
}
